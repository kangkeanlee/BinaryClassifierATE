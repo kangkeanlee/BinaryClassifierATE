{
 "cells": [
  {
   "cell_type": "markdown",
   "id": "6087e507",
   "metadata": {},
   "source": [
    "## Average Treatment Effect on Patients' Outcome"
   ]
  },
  {
   "cell_type": "markdown",
   "id": "18b8ab78",
   "metadata": {},
   "source": [
    "Import required libraries."
   ]
  },
  {
   "cell_type": "code",
   "execution_count": 1,
   "id": "021a0d8b",
   "metadata": {},
   "outputs": [],
   "source": [
    "import numpy as np\n",
    "import pandas as pd\n",
    "from sklearn.linear_model import LogisticRegression\n",
    "from sklearn.preprocessing import StandardScaler, OneHotEncoder\n",
    "from sklearn.compose import ColumnTransformer\n",
    "from sklearn.pipeline import Pipeline\n",
    "from causalinference import CausalModel"
   ]
  },
  {
   "cell_type": "markdown",
   "id": "75c0b38e",
   "metadata": {},
   "source": [
    "Load the dataset and provide contextual information on column types."
   ]
  },
  {
   "cell_type": "code",
   "execution_count": 2,
   "id": "3e1196d2",
   "metadata": {},
   "outputs": [],
   "source": [
    "# Load the dataset\n",
    "df = pd.read_csv(\"mydata.csv\")\n",
    "\n",
    "# Contextual information\n",
    "binary_columns = ['X5', 'W', 'Y']\n",
    "categorical_columns = ['X6', 'X8']\n",
    "numeric_columns = ['X1', 'X2', 'X3', 'X4', 'X7', 'X9']"
   ]
  },
  {
   "cell_type": "markdown",
   "id": "264b329e",
   "metadata": {},
   "source": [
    "Define the covariates and the treatment indicator and split the data into treatment and control groups"
   ]
  },
  {
   "cell_type": "code",
   "execution_count": 3,
   "id": "4d29599c",
   "metadata": {},
   "outputs": [],
   "source": [
    "# Define covariates and treatment indicator\n",
    "covariates = ['X1', 'X2', 'X3', 'X4', 'X5', 'X6', 'X7', 'X8', 'X9']\n",
    "treatment_indicator = 'W'"
   ]
  },
  {
   "cell_type": "markdown",
   "id": "e361ba15",
   "metadata": {},
   "source": [
    "Create the preprocessing pipeline using standard scaling of numeric columns and one-hot encoding of categorical columns."
   ]
  },
  {
   "cell_type": "code",
   "execution_count": 4,
   "id": "d4fd4ddc",
   "metadata": {},
   "outputs": [],
   "source": [
    "preprocessor = ColumnTransformer(\n",
    "    transformers=[\n",
    "        ('num', StandardScaler(), numeric_columns),\n",
    "        ('cat', OneHotEncoder(), categorical_columns),\n",
    "    ],\n",
    "    remainder='passthrough'\n",
    ")"
   ]
  },
  {
   "cell_type": "markdown",
   "id": "2dcd522a",
   "metadata": {},
   "source": [
    "Create a dataframe X that is suitable for the \"causalinference\" package."
   ]
  },
  {
   "cell_type": "code",
   "execution_count": 5,
   "id": "c27161e5",
   "metadata": {},
   "outputs": [],
   "source": [
    "# Transform X for causalinference package requirements\n",
    "X = df[covariates]\n",
    "X = preprocessor.fit_transform(X)\n",
    "X = pd.DataFrame(X)"
   ]
  },
  {
   "cell_type": "markdown",
   "id": "f7fe2b03",
   "metadata": {},
   "source": [
    "Run the causal model."
   ]
  },
  {
   "cell_type": "code",
   "execution_count": 6,
   "id": "aa190af8",
   "metadata": {},
   "outputs": [],
   "source": [
    "# Run causal model\n",
    "cm = CausalModel(Y = df['Y'].values, D = df['W'].values, X = X.values)"
   ]
  },
  {
   "cell_type": "markdown",
   "id": "9f60ee3d",
   "metadata": {},
   "source": [
    "Estimate propensity score with logistic regression (Imbens & Rubin, 2015), trim the data based on propensity score (Crump, Hotz, Imbens, & Mitnik, 2009) and estimate average treatment effect (ATE) using nearest-neighbourhood matching. Confidence intervals are also provided in the results."
   ]
  },
  {
   "cell_type": "code",
   "execution_count": 7,
   "id": "0e4f9ede",
   "metadata": {},
   "outputs": [
    {
     "name": "stdout",
     "output_type": "stream",
     "text": [
      "\n",
      "Treatment Effect Estimates: Matching\n",
      "\n",
      "                     Est.       S.e.          z      P>|z|      [95% Conf. int.]\n",
      "--------------------------------------------------------------------------------\n",
      "           ATE      0.205      0.015     13.791      0.000      0.176      0.234\n",
      "           ATC      0.217      0.017     12.790      0.000      0.184      0.250\n",
      "           ATT      0.196      0.017     11.585      0.000      0.163      0.229\n",
      "\n"
     ]
    }
   ],
   "source": [
    "cm.est_propensity_s()\n",
    "cm.trim_s()\n",
    "cm.est_via_matching()\n",
    "\n",
    "print(cm.estimates)"
   ]
  },
  {
   "cell_type": "markdown",
   "id": "6ee97f3a",
   "metadata": {},
   "source": [
    "References:\n",
    "\n",
    "Crump, R. K., Hotz, V. J., Imbens, G. W., & Mitnik, O. A. (2009). Dealing with limited overlap in estimation of average treatment effects. Biometrika, 96(1), 187-199. Retrieved from http://www.jstor.org/stable/27798811\n",
    "\n",
    "Imbens, G. W., & Rubin, D. B. (2015). Causal Inference for Statistics, Social, and Biomedical Sciences: An Introduction. Cambridge: Cambridge University Press."
   ]
  },
  {
   "cell_type": "code",
   "execution_count": null,
   "id": "ebea51a1",
   "metadata": {},
   "outputs": [],
   "source": []
  }
 ],
 "metadata": {
  "kernelspec": {
   "display_name": "Python 3 (ipykernel)",
   "language": "python",
   "name": "python3"
  },
  "language_info": {
   "codemirror_mode": {
    "name": "ipython",
    "version": 3
   },
   "file_extension": ".py",
   "mimetype": "text/x-python",
   "name": "python",
   "nbconvert_exporter": "python",
   "pygments_lexer": "ipython3",
   "version": "3.9.12"
  }
 },
 "nbformat": 4,
 "nbformat_minor": 5
}

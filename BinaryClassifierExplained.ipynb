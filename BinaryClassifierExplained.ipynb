{
 "cells": [
  {
   "cell_type": "markdown",
   "id": "1b4c7f37",
   "metadata": {},
   "source": [
    "# Binary Classifier to Predict Outcome Y with 5-fold Cross-Validation"
   ]
  },
  {
   "cell_type": "markdown",
   "id": "18b8ab78",
   "metadata": {},
   "source": [
    "Import or install required libraries. \n",
    "Note that there could be incompatibilities between the scikit learn and imblearn packages that can be resolved as noted here:\n",
    "https://github.com/scikit-learn-contrib/imbalanced-learn/issues/995"
   ]
  },
  {
   "cell_type": "code",
   "execution_count": 1,
   "id": "021a0d8b",
   "metadata": {},
   "outputs": [],
   "source": [
    "import pandas as pd\n",
    "from sklearn.ensemble import GradientBoostingClassifier\n",
    "from sklearn.preprocessing import StandardScaler, OneHotEncoder\n",
    "from sklearn.compose import ColumnTransformer\n",
    "from sklearn.model_selection import cross_validate\n",
    "from sklearn.metrics import balanced_accuracy_score\n",
    "from imblearn.pipeline import Pipeline\n",
    "from imblearn.under_sampling import RandomUnderSampler"
   ]
  },
  {
   "cell_type": "markdown",
   "id": "75c0b38e",
   "metadata": {},
   "source": [
    "Load the dataset and provide contextual information on column types."
   ]
  },
  {
   "cell_type": "code",
   "execution_count": 2,
   "id": "3e1196d2",
   "metadata": {},
   "outputs": [],
   "source": [
    "# Load the dataset\n",
    "df = pd.read_csv(\"mydata.csv\")\n",
    "\n",
    "# Contextual information\n",
    "binary_columns = ['X5', 'W', 'Y']\n",
    "categorical_columns = ['X6', 'X8']\n",
    "numeric_columns = ['X1', 'X2', 'X3', 'X4', 'X7', 'X9']"
   ]
  },
  {
   "cell_type": "markdown",
   "id": "264b329e",
   "metadata": {},
   "source": [
    "Split the data into the features and the target."
   ]
  },
  {
   "cell_type": "code",
   "execution_count": 3,
   "id": "4d29599c",
   "metadata": {},
   "outputs": [],
   "source": [
    "X = df.drop(columns=['Y'])  # Features\n",
    "y = df['Y']  # Target"
   ]
  },
  {
   "cell_type": "markdown",
   "id": "e361ba15",
   "metadata": {},
   "source": [
    "Create the preprocessing pipeline using standard scaling of numeric columns and one-hot encoding of categorical columns."
   ]
  },
  {
   "cell_type": "code",
   "execution_count": 4,
   "id": "d4fd4ddc",
   "metadata": {},
   "outputs": [],
   "source": [
    "preprocessor = ColumnTransformer(\n",
    "    transformers=[\n",
    "        ('num', StandardScaler(), numeric_columns),\n",
    "        ('cat', OneHotEncoder(), categorical_columns),\n",
    "    ],\n",
    "    remainder='passthrough'\n",
    ")"
   ]
  },
  {
   "cell_type": "markdown",
   "id": "2dcd522a",
   "metadata": {},
   "source": [
    "Create the gradient boosting classifier pipeline and model, with random undersampling of the majority class (Hasanin, Khoshgoftaar, Leevy, & Bauder, 2019)."
   ]
  },
  {
   "cell_type": "code",
   "execution_count": 5,
   "id": "c27161e5",
   "metadata": {},
   "outputs": [],
   "source": [
    "# Classifier pipeline and model\n",
    "model = Pipeline(steps=[\n",
    "    ('preprocessor', preprocessor),\n",
    "    ('undersampler', RandomUnderSampler(sampling_strategy='majority')),\n",
    "    ('classifier', GradientBoostingClassifier(n_estimators=100))\n",
    "])"
   ]
  },
  {
   "cell_type": "markdown",
   "id": "f7fe2b03",
   "metadata": {},
   "source": [
    "Perform 5-fold cross-validation on the model and print the balanced accuracy along with some additional metrics. Note that balanced accuracy is used to deal with imbalanced datasets (Brodersen, Ong, Stephan, & Buhmann, 2010)."
   ]
  },
  {
   "cell_type": "code",
   "execution_count": 6,
   "id": "aa190af8",
   "metadata": {},
   "outputs": [
    {
     "name": "stdout",
     "output_type": "stream",
     "text": [
      "balanced_accuracy mean +/- std. dev.: 0.755 +/- 0.007\n",
      "accuracy mean +/- std. dev.: 0.710 +/- 0.010\n",
      "f1 mean +/- std. dev.: 0.572 +/- 0.010\n",
      "roc_auc mean +/- std. dev.: 0.823 +/- 0.005\n"
     ]
    }
   ],
   "source": [
    "# Cross-validation (5 folds) with various metrics\n",
    "for scoring_metric in ['balanced_accuracy', 'accuracy', 'f1', 'roc_auc']:\n",
    "    cv_results = cross_validate(model, X, y, cv=5, scoring=scoring_metric, return_train_score=True, return_estimator=True)\n",
    "\n",
    "    print(\n",
    "        scoring_metric+\n",
    "        f\" mean +/- std. dev.: \"\n",
    "        f\"{cv_results['test_score'].mean():.3f} +/- \"\n",
    "        f\"{cv_results['test_score'].std():.3f}\"\n",
    "    )"
   ]
  },
  {
   "cell_type": "markdown",
   "id": "ce82fcae",
   "metadata": {},
   "source": [
    "References:\n",
    "\n",
    "Brodersen, K. H., Ong, C. S., Stephan, K. E., & Buhmann, J. M. (2010). The balanced accuracy and its posterior distribution. Paper presented at the 2010 20th International Conference on Pattern Recognition, 3121-3124. doi:10.1109/ICPR.2010.764\n",
    "\n",
    "Hasanin, T., Khoshgoftaar, T. M., Leevy, J. L., & Bauder, R. A. (2019). Severely imbalanced big data challenges: Investigating data sampling approaches. Journal of Big Data, 6(1), 107. doi:10.1186/s40537-019-0274-4"
   ]
  },
  {
   "cell_type": "code",
   "execution_count": null,
   "id": "78a7b73f",
   "metadata": {},
   "outputs": [],
   "source": []
  }
 ],
 "metadata": {
  "kernelspec": {
   "display_name": "Python 3 (ipykernel)",
   "language": "python",
   "name": "python3"
  },
  "language_info": {
   "codemirror_mode": {
    "name": "ipython",
    "version": 3
   },
   "file_extension": ".py",
   "mimetype": "text/x-python",
   "name": "python",
   "nbconvert_exporter": "python",
   "pygments_lexer": "ipython3",
   "version": "3.9.12"
  }
 },
 "nbformat": 4,
 "nbformat_minor": 5
}
